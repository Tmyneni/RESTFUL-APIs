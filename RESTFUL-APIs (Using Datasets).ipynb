{
 "cells": [
  {
   "cell_type": "code",
   "execution_count": 1,
   "id": "cc9efb23",
   "metadata": {},
   "outputs": [],
   "source": [
    "import pandas as pd\n",
    "import csv"
   ]
  },
  {
   "cell_type": "code",
   "execution_count": 2,
   "id": "99b7a2b0",
   "metadata": {},
   "outputs": [
    {
     "name": "stdout",
     "output_type": "stream",
     "text": [
      "                                   State/UTs  Total Vaccination Doses   Dose1  \\\n",
      "18                               Lakshadweep                   145313   56914   \n",
      "17                                    Ladakh                   567133  219604   \n",
      "0                        Andaman And Nicobar                   991264  313284   \n",
      "29                                    Sikkim                  1360477  539929   \n",
      "7   Dadra And Nagar Haveli And Daman And Diu                  1580060  730855   \n",
      "\n",
      "    Dose 2  Dose 1 15-18  Dose 2 15-18  Dose 1 12-14  Dose 2 12-14  \\\n",
      "18   56019          2911          2782          1988          1724   \n",
      "17  187095         10072          9261          8627          7758   \n",
      "0   320383         19208         18860         15124         14042   \n",
      "29  509134         30049         26515         21899         19007   \n",
      "7   595090         31509         26943         19989         14929   \n",
      "\n",
      "    Precaution 18-59  Population  \n",
      "18             15990       66001  \n",
      "17             70299      290492  \n",
      "0             236936      399001  \n",
      "29            158301      658019  \n",
      "7             138137      773997  \n",
      "   Country/Other  Total Cases  Total Deaths  Total Recovered  Active Cases  \\\n",
      "6         Brunei       310522           225         243601.0       66696.0   \n",
      "27      Maldives       186694           316         163687.0       22691.0   \n",
      "25         Macao        16716           123           3487.0       13106.0   \n",
      "5         Bhutan        62697            21          61564.0        1112.0   \n",
      "9         Cyprus       660854          1364         659490.0           0.0   \n",
      "\n",
      "    Tot Cases/ 1M pop  Deaths/ 1M pop  Total Tests  Tests/ 1M pop  Population  \n",
      "6              697127             505     717784.0      1611437.0      445431  \n",
      "27             345100             584    2213831.0      4092223.0      540985  \n",
      "25              25043             184       7850.0        11760.0      667490  \n",
      "5               79571              27    2303734.0      2923739.0      787941  \n",
      "9              540184            1115    9640118.0      7879860.0     1223387  \n",
      "                                   State/UTs  Total Cases  Active  Discharged  \\\n",
      "18                               Lakshadweep        11415       0       11363   \n",
      "17                                    Ladakh        29602       0       29371   \n",
      "0                        Andaman and Nicobar        10766       0       10637   \n",
      "29                                    Sikkim        44927       4       44422   \n",
      "7   Dadra and Nagar Haveli and Daman and Diu        11592       0       11588   \n",
      "\n",
      "    Deaths  Active Ratio  Discharge Ratio  Death Ratio  Population  \n",
      "18      52          0.00            99.54         0.46       66001  \n",
      "17     231          0.00            99.22         0.78      290492  \n",
      "0      129          0.00            98.80         1.20      399001  \n",
      "29     501          0.01            98.88         1.12      658019  \n",
      "7        4          0.00            99.97         0.03      773997  \n"
     ]
    }
   ],
   "source": [
    "# File paths for datasets\n",
    "vaccine_data_path = \"C:/Users/tmyneni/OneDrive - USC Upstate/Desktop/IO/Data sets/COVID-19 India Statewise Vaccine Data.csv\"\n",
    "covid_data_asia_path = \"C:/Users/tmyneni/OneDrive - USC Upstate/Desktop/IO/Data sets/Latest Covid-19 Data in Asia.csv\"\n",
    "covid_data_india_path = \"C:/Users/tmyneni/OneDrive - USC Upstate/Desktop/IO/Data sets/Latest Covid-19 India Status.csv\"\n",
    "\n",
    "# Function to fetch data from datasets\n",
    "def fetch_data(file_path):\n",
    "    if file_path.endswith('.csv'):\n",
    "        return pd.read_csv(file_path)\n",
    "    else:\n",
    "        print(\"Unsupported file format\")\n",
    "        return None\n",
    "    \n",
    "# Function to manipulate the data \n",
    "def manipulate_data(data):\n",
    "    return data.sort_values(by='Population', ascending=True)\n",
    "\n",
    "# Fetching data and manipulating it\n",
    "vaccine_data = fetch_data(vaccine_data_path)\n",
    "manipulated_vaccine_data = manipulate_data(vaccine_data)\n",
    "print(manipulated_vaccine_data.head())\n",
    "\n",
    "covid_data_asia = fetch_data(covid_data_asia_path)\n",
    "manipulated_covid_data_asia = manipulate_data(covid_data_asia)\n",
    "print(manipulated_covid_data_asia.head())\n",
    "\n",
    "covid_data_india = fetch_data(covid_data_india_path)\n",
    "manipulated_covid_data_india = manipulate_data(covid_data_india)\n",
    "print(manipulated_covid_data_india.head())\n",
    "\n",
    "# Save manipulated data to CSV files\n",
    "manipulated_vaccine_data.to_csv(\"vaccine_data_sorted.csv\", index=False)\n",
    "manipulated_covid_data_asia.to_csv(\"covid_data_asia_sorted.csv\", index=False)\n",
    "manipulated_covid_data_india.to_csv(\"covid_data_india_sorted.csv\", index=False)\n"
   ]
  },
  {
   "cell_type": "code",
   "execution_count": null,
   "id": "1df1d15b",
   "metadata": {},
   "outputs": [],
   "source": []
  }
 ],
 "metadata": {
  "kernelspec": {
   "display_name": "Python 3 (ipykernel)",
   "language": "python",
   "name": "python3"
  },
  "language_info": {
   "codemirror_mode": {
    "name": "ipython",
    "version": 3
   },
   "file_extension": ".py",
   "mimetype": "text/x-python",
   "name": "python",
   "nbconvert_exporter": "python",
   "pygments_lexer": "ipython3",
   "version": "3.11.5"
  }
 },
 "nbformat": 4,
 "nbformat_minor": 5
}
